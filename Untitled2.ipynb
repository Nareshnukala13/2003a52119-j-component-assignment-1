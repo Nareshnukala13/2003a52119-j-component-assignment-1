{
  "nbformat": 4,
  "nbformat_minor": 0,
  "metadata": {
    "colab": {
      "name": "Untitled2.ipynb",
      "provenance": [],
      "authorship_tag": "ABX9TyO1IiQuRtAPsxvI7xeQ7Fm9",
      "include_colab_link": true
    },
    "kernelspec": {
      "name": "python3",
      "display_name": "Python 3"
    },
    "language_info": {
      "name": "python"
    }
  },
  "cells": [
    {
      "cell_type": "markdown",
      "metadata": {
        "id": "view-in-github",
        "colab_type": "text"
      },
      "source": [
        "<a href=\"https://colab.research.google.com/github/Nareshnukala13/2003a52119-j-component-assignment-1/blob/main/Untitled2.ipynb\" target=\"_parent\"><img src=\"https://colab.research.google.com/assets/colab-badge.svg\" alt=\"Open In Colab\"/></a>"
      ]
    },
    {
      "cell_type": "code",
      "execution_count": null,
      "metadata": {
        "id": "qXs8FO4Pn2Cz"
      },
      "outputs": [],
      "source": [
        "import pandas as pd"
      ]
    },
    {
      "cell_type": "code",
      "source": [
        "data=pd.read_csv('/content/Chemical Composion of Ceramic.csv')\n",
        "data"
      ],
      "metadata": {
        "colab": {
          "base_uri": "https://localhost:8080/",
          "height": 592
        },
        "id": "TFqohjGdplVf",
        "outputId": "25176602-b1d5-4557-c4d7-771d204585b0"
      },
      "execution_count": null,
      "outputs": [
        {
          "output_type": "execute_result",
          "data": {
            "text/plain": [
              "   Ceramic Name   Part  Na2O   MgO  Al2O3   SiO2   K2O    CaO  TiO2  Fe2O3  \\\n",
              "0       FLQ-1-b   Body  0.62  0.38  19.61  71.99  4.84   0.31  0.07   1.18   \n",
              "1       FLQ-2-b   Body  0.57  0.47  21.19  70.09  4.98   0.49  0.09   1.12   \n",
              "2       FLQ-3-b   Body  0.49  0.19  18.60  74.70  3.47   0.43  0.06   1.07   \n",
              "3       FLQ-4-b   Body  0.89  0.30  18.01  74.19  4.01   0.27  0.09   1.23   \n",
              "4       FLQ-5-b   Body  0.03  0.36  18.41  73.99  4.33   0.65  0.05   1.19   \n",
              "..          ...    ...   ...   ...    ...    ...   ...    ...   ...    ...   \n",
              "83     DY-M-3-g  Glaze  0.34  0.55  12.37  70.70  5.33   8.06  0.06   1.61   \n",
              "84    DY-QC-1-g  Glaze  0.72  0.34  12.20  72.19  6.19   6.06  0.04   1.27   \n",
              "85    DY-QC-2-g  Glaze  0.23  0.24  12.99  71.81  5.25   7.15  0.05   1.29   \n",
              "86    DY-QC-3-g  Glaze  0.14  0.46  12.62  69.16  4.34  11.03  0.05   1.20   \n",
              "87    DY-QC-4-g  Glaze  0.14  0.63  14.25  71.55  4.87   6.43  0.08   1.05   \n",
              "\n",
              "     MnO  CuO  ZnO  PbO2  Rb2O  SrO  Y2O3  ZrO2  P2O5  \n",
              "0    630   10   70    10   430    0    40    80    90  \n",
              "1    380   20   80    40   430  -10    40   100   110  \n",
              "2    420   20   50    50   380   40    40    80   200  \n",
              "3    460   20   70    60   380   10    40    70   210  \n",
              "4    380   40   90    40   360   10    30    80   150  \n",
              "..   ...  ...  ...   ...   ...  ...   ...   ...   ...  \n",
              "83  1250   10   90    30   250  520    30   140   690  \n",
              "84  1700   60  110    10   270  540    40   120   630  \n",
              "85   750   40  100     0   240  470    40   120   480  \n",
              "86   920   40   90    20   230  470    40   130  1100  \n",
              "87   800   40   90    20   220  410    40   110   690  \n",
              "\n",
              "[88 rows x 19 columns]"
            ],
            "text/html": [
              "\n",
              "  <div id=\"df-f06d99ed-9ab0-46bb-bbc3-875c5a5acad6\">\n",
              "    <div class=\"colab-df-container\">\n",
              "      <div>\n",
              "<style scoped>\n",
              "    .dataframe tbody tr th:only-of-type {\n",
              "        vertical-align: middle;\n",
              "    }\n",
              "\n",
              "    .dataframe tbody tr th {\n",
              "        vertical-align: top;\n",
              "    }\n",
              "\n",
              "    .dataframe thead th {\n",
              "        text-align: right;\n",
              "    }\n",
              "</style>\n",
              "<table border=\"1\" class=\"dataframe\">\n",
              "  <thead>\n",
              "    <tr style=\"text-align: right;\">\n",
              "      <th></th>\n",
              "      <th>Ceramic Name</th>\n",
              "      <th>Part</th>\n",
              "      <th>Na2O</th>\n",
              "      <th>MgO</th>\n",
              "      <th>Al2O3</th>\n",
              "      <th>SiO2</th>\n",
              "      <th>K2O</th>\n",
              "      <th>CaO</th>\n",
              "      <th>TiO2</th>\n",
              "      <th>Fe2O3</th>\n",
              "      <th>MnO</th>\n",
              "      <th>CuO</th>\n",
              "      <th>ZnO</th>\n",
              "      <th>PbO2</th>\n",
              "      <th>Rb2O</th>\n",
              "      <th>SrO</th>\n",
              "      <th>Y2O3</th>\n",
              "      <th>ZrO2</th>\n",
              "      <th>P2O5</th>\n",
              "    </tr>\n",
              "  </thead>\n",
              "  <tbody>\n",
              "    <tr>\n",
              "      <th>0</th>\n",
              "      <td>FLQ-1-b</td>\n",
              "      <td>Body</td>\n",
              "      <td>0.62</td>\n",
              "      <td>0.38</td>\n",
              "      <td>19.61</td>\n",
              "      <td>71.99</td>\n",
              "      <td>4.84</td>\n",
              "      <td>0.31</td>\n",
              "      <td>0.07</td>\n",
              "      <td>1.18</td>\n",
              "      <td>630</td>\n",
              "      <td>10</td>\n",
              "      <td>70</td>\n",
              "      <td>10</td>\n",
              "      <td>430</td>\n",
              "      <td>0</td>\n",
              "      <td>40</td>\n",
              "      <td>80</td>\n",
              "      <td>90</td>\n",
              "    </tr>\n",
              "    <tr>\n",
              "      <th>1</th>\n",
              "      <td>FLQ-2-b</td>\n",
              "      <td>Body</td>\n",
              "      <td>0.57</td>\n",
              "      <td>0.47</td>\n",
              "      <td>21.19</td>\n",
              "      <td>70.09</td>\n",
              "      <td>4.98</td>\n",
              "      <td>0.49</td>\n",
              "      <td>0.09</td>\n",
              "      <td>1.12</td>\n",
              "      <td>380</td>\n",
              "      <td>20</td>\n",
              "      <td>80</td>\n",
              "      <td>40</td>\n",
              "      <td>430</td>\n",
              "      <td>-10</td>\n",
              "      <td>40</td>\n",
              "      <td>100</td>\n",
              "      <td>110</td>\n",
              "    </tr>\n",
              "    <tr>\n",
              "      <th>2</th>\n",
              "      <td>FLQ-3-b</td>\n",
              "      <td>Body</td>\n",
              "      <td>0.49</td>\n",
              "      <td>0.19</td>\n",
              "      <td>18.60</td>\n",
              "      <td>74.70</td>\n",
              "      <td>3.47</td>\n",
              "      <td>0.43</td>\n",
              "      <td>0.06</td>\n",
              "      <td>1.07</td>\n",
              "      <td>420</td>\n",
              "      <td>20</td>\n",
              "      <td>50</td>\n",
              "      <td>50</td>\n",
              "      <td>380</td>\n",
              "      <td>40</td>\n",
              "      <td>40</td>\n",
              "      <td>80</td>\n",
              "      <td>200</td>\n",
              "    </tr>\n",
              "    <tr>\n",
              "      <th>3</th>\n",
              "      <td>FLQ-4-b</td>\n",
              "      <td>Body</td>\n",
              "      <td>0.89</td>\n",
              "      <td>0.30</td>\n",
              "      <td>18.01</td>\n",
              "      <td>74.19</td>\n",
              "      <td>4.01</td>\n",
              "      <td>0.27</td>\n",
              "      <td>0.09</td>\n",
              "      <td>1.23</td>\n",
              "      <td>460</td>\n",
              "      <td>20</td>\n",
              "      <td>70</td>\n",
              "      <td>60</td>\n",
              "      <td>380</td>\n",
              "      <td>10</td>\n",
              "      <td>40</td>\n",
              "      <td>70</td>\n",
              "      <td>210</td>\n",
              "    </tr>\n",
              "    <tr>\n",
              "      <th>4</th>\n",
              "      <td>FLQ-5-b</td>\n",
              "      <td>Body</td>\n",
              "      <td>0.03</td>\n",
              "      <td>0.36</td>\n",
              "      <td>18.41</td>\n",
              "      <td>73.99</td>\n",
              "      <td>4.33</td>\n",
              "      <td>0.65</td>\n",
              "      <td>0.05</td>\n",
              "      <td>1.19</td>\n",
              "      <td>380</td>\n",
              "      <td>40</td>\n",
              "      <td>90</td>\n",
              "      <td>40</td>\n",
              "      <td>360</td>\n",
              "      <td>10</td>\n",
              "      <td>30</td>\n",
              "      <td>80</td>\n",
              "      <td>150</td>\n",
              "    </tr>\n",
              "    <tr>\n",
              "      <th>...</th>\n",
              "      <td>...</td>\n",
              "      <td>...</td>\n",
              "      <td>...</td>\n",
              "      <td>...</td>\n",
              "      <td>...</td>\n",
              "      <td>...</td>\n",
              "      <td>...</td>\n",
              "      <td>...</td>\n",
              "      <td>...</td>\n",
              "      <td>...</td>\n",
              "      <td>...</td>\n",
              "      <td>...</td>\n",
              "      <td>...</td>\n",
              "      <td>...</td>\n",
              "      <td>...</td>\n",
              "      <td>...</td>\n",
              "      <td>...</td>\n",
              "      <td>...</td>\n",
              "      <td>...</td>\n",
              "    </tr>\n",
              "    <tr>\n",
              "      <th>83</th>\n",
              "      <td>DY-M-3-g</td>\n",
              "      <td>Glaze</td>\n",
              "      <td>0.34</td>\n",
              "      <td>0.55</td>\n",
              "      <td>12.37</td>\n",
              "      <td>70.70</td>\n",
              "      <td>5.33</td>\n",
              "      <td>8.06</td>\n",
              "      <td>0.06</td>\n",
              "      <td>1.61</td>\n",
              "      <td>1250</td>\n",
              "      <td>10</td>\n",
              "      <td>90</td>\n",
              "      <td>30</td>\n",
              "      <td>250</td>\n",
              "      <td>520</td>\n",
              "      <td>30</td>\n",
              "      <td>140</td>\n",
              "      <td>690</td>\n",
              "    </tr>\n",
              "    <tr>\n",
              "      <th>84</th>\n",
              "      <td>DY-QC-1-g</td>\n",
              "      <td>Glaze</td>\n",
              "      <td>0.72</td>\n",
              "      <td>0.34</td>\n",
              "      <td>12.20</td>\n",
              "      <td>72.19</td>\n",
              "      <td>6.19</td>\n",
              "      <td>6.06</td>\n",
              "      <td>0.04</td>\n",
              "      <td>1.27</td>\n",
              "      <td>1700</td>\n",
              "      <td>60</td>\n",
              "      <td>110</td>\n",
              "      <td>10</td>\n",
              "      <td>270</td>\n",
              "      <td>540</td>\n",
              "      <td>40</td>\n",
              "      <td>120</td>\n",
              "      <td>630</td>\n",
              "    </tr>\n",
              "    <tr>\n",
              "      <th>85</th>\n",
              "      <td>DY-QC-2-g</td>\n",
              "      <td>Glaze</td>\n",
              "      <td>0.23</td>\n",
              "      <td>0.24</td>\n",
              "      <td>12.99</td>\n",
              "      <td>71.81</td>\n",
              "      <td>5.25</td>\n",
              "      <td>7.15</td>\n",
              "      <td>0.05</td>\n",
              "      <td>1.29</td>\n",
              "      <td>750</td>\n",
              "      <td>40</td>\n",
              "      <td>100</td>\n",
              "      <td>0</td>\n",
              "      <td>240</td>\n",
              "      <td>470</td>\n",
              "      <td>40</td>\n",
              "      <td>120</td>\n",
              "      <td>480</td>\n",
              "    </tr>\n",
              "    <tr>\n",
              "      <th>86</th>\n",
              "      <td>DY-QC-3-g</td>\n",
              "      <td>Glaze</td>\n",
              "      <td>0.14</td>\n",
              "      <td>0.46</td>\n",
              "      <td>12.62</td>\n",
              "      <td>69.16</td>\n",
              "      <td>4.34</td>\n",
              "      <td>11.03</td>\n",
              "      <td>0.05</td>\n",
              "      <td>1.20</td>\n",
              "      <td>920</td>\n",
              "      <td>40</td>\n",
              "      <td>90</td>\n",
              "      <td>20</td>\n",
              "      <td>230</td>\n",
              "      <td>470</td>\n",
              "      <td>40</td>\n",
              "      <td>130</td>\n",
              "      <td>1100</td>\n",
              "    </tr>\n",
              "    <tr>\n",
              "      <th>87</th>\n",
              "      <td>DY-QC-4-g</td>\n",
              "      <td>Glaze</td>\n",
              "      <td>0.14</td>\n",
              "      <td>0.63</td>\n",
              "      <td>14.25</td>\n",
              "      <td>71.55</td>\n",
              "      <td>4.87</td>\n",
              "      <td>6.43</td>\n",
              "      <td>0.08</td>\n",
              "      <td>1.05</td>\n",
              "      <td>800</td>\n",
              "      <td>40</td>\n",
              "      <td>90</td>\n",
              "      <td>20</td>\n",
              "      <td>220</td>\n",
              "      <td>410</td>\n",
              "      <td>40</td>\n",
              "      <td>110</td>\n",
              "      <td>690</td>\n",
              "    </tr>\n",
              "  </tbody>\n",
              "</table>\n",
              "<p>88 rows × 19 columns</p>\n",
              "</div>\n",
              "      <button class=\"colab-df-convert\" onclick=\"convertToInteractive('df-f06d99ed-9ab0-46bb-bbc3-875c5a5acad6')\"\n",
              "              title=\"Convert this dataframe to an interactive table.\"\n",
              "              style=\"display:none;\">\n",
              "        \n",
              "  <svg xmlns=\"http://www.w3.org/2000/svg\" height=\"24px\"viewBox=\"0 0 24 24\"\n",
              "       width=\"24px\">\n",
              "    <path d=\"M0 0h24v24H0V0z\" fill=\"none\"/>\n",
              "    <path d=\"M18.56 5.44l.94 2.06.94-2.06 2.06-.94-2.06-.94-.94-2.06-.94 2.06-2.06.94zm-11 1L8.5 8.5l.94-2.06 2.06-.94-2.06-.94L8.5 2.5l-.94 2.06-2.06.94zm10 10l.94 2.06.94-2.06 2.06-.94-2.06-.94-.94-2.06-.94 2.06-2.06.94z\"/><path d=\"M17.41 7.96l-1.37-1.37c-.4-.4-.92-.59-1.43-.59-.52 0-1.04.2-1.43.59L10.3 9.45l-7.72 7.72c-.78.78-.78 2.05 0 2.83L4 21.41c.39.39.9.59 1.41.59.51 0 1.02-.2 1.41-.59l7.78-7.78 2.81-2.81c.8-.78.8-2.07 0-2.86zM5.41 20L4 18.59l7.72-7.72 1.47 1.35L5.41 20z\"/>\n",
              "  </svg>\n",
              "      </button>\n",
              "      \n",
              "  <style>\n",
              "    .colab-df-container {\n",
              "      display:flex;\n",
              "      flex-wrap:wrap;\n",
              "      gap: 12px;\n",
              "    }\n",
              "\n",
              "    .colab-df-convert {\n",
              "      background-color: #E8F0FE;\n",
              "      border: none;\n",
              "      border-radius: 50%;\n",
              "      cursor: pointer;\n",
              "      display: none;\n",
              "      fill: #1967D2;\n",
              "      height: 32px;\n",
              "      padding: 0 0 0 0;\n",
              "      width: 32px;\n",
              "    }\n",
              "\n",
              "    .colab-df-convert:hover {\n",
              "      background-color: #E2EBFA;\n",
              "      box-shadow: 0px 1px 2px rgba(60, 64, 67, 0.3), 0px 1px 3px 1px rgba(60, 64, 67, 0.15);\n",
              "      fill: #174EA6;\n",
              "    }\n",
              "\n",
              "    [theme=dark] .colab-df-convert {\n",
              "      background-color: #3B4455;\n",
              "      fill: #D2E3FC;\n",
              "    }\n",
              "\n",
              "    [theme=dark] .colab-df-convert:hover {\n",
              "      background-color: #434B5C;\n",
              "      box-shadow: 0px 1px 3px 1px rgba(0, 0, 0, 0.15);\n",
              "      filter: drop-shadow(0px 1px 2px rgba(0, 0, 0, 0.3));\n",
              "      fill: #FFFFFF;\n",
              "    }\n",
              "  </style>\n",
              "\n",
              "      <script>\n",
              "        const buttonEl =\n",
              "          document.querySelector('#df-f06d99ed-9ab0-46bb-bbc3-875c5a5acad6 button.colab-df-convert');\n",
              "        buttonEl.style.display =\n",
              "          google.colab.kernel.accessAllowed ? 'block' : 'none';\n",
              "\n",
              "        async function convertToInteractive(key) {\n",
              "          const element = document.querySelector('#df-f06d99ed-9ab0-46bb-bbc3-875c5a5acad6');\n",
              "          const dataTable =\n",
              "            await google.colab.kernel.invokeFunction('convertToInteractive',\n",
              "                                                     [key], {});\n",
              "          if (!dataTable) return;\n",
              "\n",
              "          const docLinkHtml = 'Like what you see? Visit the ' +\n",
              "            '<a target=\"_blank\" href=https://colab.research.google.com/notebooks/data_table.ipynb>data table notebook</a>'\n",
              "            + ' to learn more about interactive tables.';\n",
              "          element.innerHTML = '';\n",
              "          dataTable['output_type'] = 'display_data';\n",
              "          await google.colab.output.renderOutput(dataTable, element);\n",
              "          const docLink = document.createElement('div');\n",
              "          docLink.innerHTML = docLinkHtml;\n",
              "          element.appendChild(docLink);\n",
              "        }\n",
              "      </script>\n",
              "    </div>\n",
              "  </div>\n",
              "  "
            ]
          },
          "metadata": {},
          "execution_count": 3
        }
      ]
    },
    {
      "cell_type": "code",
      "source": [
        "import matplotlib.pyplot as pt\n",
        "x1=data['Ceramic Name']\n",
        "y=data['Part']\n",
        "pt.plot(x1,y)\n"
      ],
      "metadata": {
        "colab": {
          "base_uri": "https://localhost:8080/",
          "height": 282
        },
        "id": "vmZF8fC2plZ-",
        "outputId": "22eba6fc-427d-4b50-fe97-ad79d944348f"
      },
      "execution_count": null,
      "outputs": [
        {
          "output_type": "execute_result",
          "data": {
            "text/plain": [
              "[<matplotlib.lines.Line2D at 0x7f3ec639d990>]"
            ]
          },
          "metadata": {},
          "execution_count": 6
        },
        {
          "output_type": "display_data",
          "data": {
            "text/plain": [
              "<Figure size 432x288 with 1 Axes>"
            ],
            "image/png": "[encoded data removed]"
          },
          "metadata": {
            "needs_background": "light"
          }
        }
      ]
    },
    {
      "cell_type": "code",
      "source": [
        "import matplotlib.pyplot as pt\n",
        "x2=data['Na2O']\n",
        "y=data['Part']\n",
        "pt.plot(x2,y)\n"
      ],
      "metadata": {
        "id": "7QHyWpUMplbs",
        "colab": {
          "base_uri": "https://localhost:8080/",
          "height": 282
        },
        "outputId": "f339a677-a4c8-4fcb-af2c-3df629031649"
      },
      "execution_count": 7,
      "outputs": [
        {
          "output_type": "execute_result",
          "data": {
            "text/plain": [
              "[<matplotlib.lines.Line2D at 0x7f3ec62ad110>]"
            ]
          },
          "metadata": {},
          "execution_count": 7
        },
        {
          "output_type": "display_data",
          "data": {
            "text/plain": [
              "<Figure size 432x288 with 1 Axes>"
            ],
            "image/png": "[encoded data removed]"
          },
          "metadata": {
            "needs_background": "light"
          }
        }
      ]
    },
    {
      "cell_type": "code",
      "source": [
        "import matplotlib.pyplot as pt\n",
        "x3=data['MgO']\n",
        "y=data['Part']\n",
        "pt.plot(x3,y)"
      ],
      "metadata": {
        "id": "ies3-4jqpldB",
        "colab": {
          "base_uri": "https://localhost:8080/",
          "height": 282
        },
        "outputId": "0576c206-c393-439c-a7db-814ad4add6c3"
      },
      "execution_count": 8,
      "outputs": [
        {
          "output_type": "execute_result",
          "data": {
            "text/plain": [
              "[<matplotlib.lines.Line2D at 0x7f3ec61e4150>]"
            ]
          },
          "metadata": {},
          "execution_count": 8
        },
        {
          "output_type": "display_data",
          "data": {
            "text/plain": [
              "<Figure size 432x288 with 1 Axes>"
            ],
            "image/png": "[encoded data removed]"
          },
          "metadata": {
            "needs_background": "light"
          }
        }
      ]
    },
    {
      "cell_type": "code",
      "source": [
        "import matplotlib.pyplot as pt\n",
        "x4=data['Al2O3']\n",
        "y=data['Part']\n",
        "pt.plot(x4,y)"
      ],
      "metadata": {
        "id": "gLvvquWrpleV",
        "colab": {
          "base_uri": "https://localhost:8080/",
          "height": 282
        },
        "outputId": "5bf3e474-5432-410c-ddbc-3d2c3a3ef257"
      },
      "execution_count": 9,
      "outputs": [
        {
          "output_type": "execute_result",
          "data": {
            "text/plain": [
              "[<matplotlib.lines.Line2D at 0x7f3ec613d110>]"
            ]
          },
          "metadata": {},
          "execution_count": 9
        },
        {
          "output_type": "display_data",
          "data": {
            "text/plain": [
              "<Figure size 432x288 with 1 Axes>"
            ],
            "image/png": "[encoded data removed]"
          },
          "metadata": {
            "needs_background": "light"
          }
        }
      ]
    },
    {
      "cell_type": "code",
      "source": [
        "import matplotlib.pyplot as pt\n",
        "x5=data['SiO2']\n",
        "y=data['Part']\n",
        "pt.plot(x5,y)"
      ],
      "metadata": {
        "id": "1DJ0cuMyplf-",
        "colab": {
          "base_uri": "https://localhost:8080/",
          "height": 282
        },
        "outputId": "6ec853a9-0774-4f94-8f54-fbcb31acfde1"
      },
      "execution_count": 10,
      "outputs": [
        {
          "output_type": "execute_result",
          "data": {
            "text/plain": [
              "[<matplotlib.lines.Line2D at 0x7f3ec611e9d0>]"
            ]
          },
          "metadata": {},
          "execution_count": 10
        },
        {
          "output_type": "display_data",
          "data": {
            "text/plain": [
              "<Figure size 432x288 with 1 Axes>"
            ],
            "image/png": "[encoded data removed]"
          },
          "metadata": {
            "needs_background": "light"
          }
        }
      ]
    },
    {
      "cell_type": "code",
      "source": [
        "import matplotlib.pyplot as pt\n",
        "x6=data['K2O']\n",
        "y=data['Part']\n",
        "pt.plot(x6,y)"
      ],
      "metadata": {
        "id": "k8jnM7-Gplhi",
        "colab": {
          "base_uri": "https://localhost:8080/",
          "height": 282
        },
        "outputId": "c01897c1-56c7-4bfa-efc4-967188507b10"
      },
      "execution_count": 11,
      "outputs": [
        {
          "output_type": "execute_result",
          "data": {
            "text/plain": [
              "[<matplotlib.lines.Line2D at 0x7f3ec6297f50>]"
            ]
          },
          "metadata": {},
          "execution_count": 11
        },
        {
          "output_type": "display_data",
          "data": {
            "text/plain": [
              "<Figure size 432x288 with 1 Axes>"
            ],
            "image/png": "[encoded data removed]"
          },
          "metadata": {
            "needs_background": "light"
          }
        }
      ]
    },
    {
      "cell_type": "code",
      "source": [
        "import matplotlib.pyplot as pt\n",
        "x7=data['CaO']\n",
        "y=data['Part']\n",
        "pt.plot(x7,y)"
      ],
      "metadata": {
        "id": "7NA62N0aplk0",
        "colab": {
          "base_uri": "https://localhost:8080/",
          "height": 282
        },
        "outputId": "528b81af-d530-4519-e2ef-a6a9b6a38402"
      },
      "execution_count": 12,
      "outputs": [
        {
          "output_type": "execute_result",
          "data": {
            "text/plain": [
              "[<matplotlib.lines.Line2D at 0x7f3ec6143850>]"
            ]
          },
          "metadata": {},
          "execution_count": 12
        },
        {
          "output_type": "display_data",
          "data": {
            "text/plain": [
              "<Figure size 432x288 with 1 Axes>"
            ],
            "image/png": "[encoded data removed]"
          },
          "metadata": {
            "needs_background": "light"
          }
        }
      ]
    },
    {
      "cell_type": "code",
      "source": [
        "import matplotlib.pyplot as pt\n",
        "x8=data['TiO2']\n",
        "y=data['Part']\n",
        "pt.plot(x8,y)"
      ],
      "metadata": {
        "colab": {
          "base_uri": "https://localhost:8080/",
          "height": 282
        },
        "id": "2onB3vDWsQKl",
        "outputId": "7ffd0785-45cc-4dbb-f5ed-8157c2d9ee05"
      },
      "execution_count": 14,
      "outputs": [
        {
          "output_type": "execute_result",
          "data": {
            "text/plain": [
              "[<matplotlib.lines.Line2D at 0x7f3ec5fc73d0>]"
            ]
          },
          "metadata": {},
          "execution_count": 14
        },
        {
          "output_type": "display_data",
          "data": {
            "text/plain": [
              "<Figure size 432x288 with 1 Axes>"
            ],
            "image/png": "[encoded data removed]"
          },
          "metadata": {
            "needs_background": "light"
          }
        }
      ]
    },
    {
      "cell_type": "code",
      "source": [
        "import matplotlib.pyplot as pt\n",
        "x9=data['Fe2O3']\n",
        "y=data['Part']\n",
        "pt.plot(x9,y)"
      ],
      "metadata": {
        "colab": {
          "base_uri": "https://localhost:8080/",
          "height": 282
        },
        "id": "szKm-YK_sYPE",
        "outputId": "90fb0474-9c42-4b00-c12a-62864b013695"
      },
      "execution_count": 15,
      "outputs": [
        {
          "output_type": "execute_result",
          "data": {
            "text/plain": [
              "[<matplotlib.lines.Line2D at 0x7f3ec5f8a810>]"
            ]
          },
          "metadata": {},
          "execution_count": 15
        },
        {
          "output_type": "display_data",
          "data": {
            "text/plain": [
              "<Figure size 432x288 with 1 Axes>"
            ],
            "image/png": "[encoded data removed]"
          },
          "metadata": {
            "needs_background": "light"
          }
        }
      ]
    },
    {
      "cell_type": "code",
      "source": [
        "import matplotlib.pyplot as pt\n",
        "x10=data['MnO']\n",
        "y=data['Part']\n",
        "pt.plot(x10,y)"
      ],
      "metadata": {
        "colab": {
          "base_uri": "https://localhost:8080/",
          "height": 282
        },
        "id": "_pc8iswCsiE5",
        "outputId": "a9fd2d84-e447-401b-dcb9-d663cdb52581"
      },
      "execution_count": 16,
      "outputs": [
        {
          "output_type": "execute_result",
          "data": {
            "text/plain": [
              "[<matplotlib.lines.Line2D at 0x7f3ec5f6f690>]"
            ]
          },
          "metadata": {},
          "execution_count": 16
        },
        {
          "output_type": "display_data",
          "data": {
            "text/plain": [
              "<Figure size 432x288 with 1 Axes>"
            ],
            "image/png": "[encoded data removed]"
          },
          "metadata": {
            "needs_background": "light"
          }
        }
      ]
    },
    {
      "cell_type": "code",
      "source": [
        "import matplotlib.pyplot as pt\n",
        "x11=data['CuO']\n",
        "y=data['Part']\n",
        "pt.plot(x11,y)"
      ],
      "metadata": {
        "colab": {
          "base_uri": "https://localhost:8080/",
          "height": 282
        },
        "id": "MZ96RpUsspY7",
        "outputId": "33b71988-c2ca-4ba9-e33b-597095476b79"
      },
      "execution_count": 17,
      "outputs": [
        {
          "output_type": "execute_result",
          "data": {
            "text/plain": [
              "[<matplotlib.lines.Line2D at 0x7f3ec5ecd710>]"
            ]
          },
          "metadata": {},
          "execution_count": 17
        },
        {
          "output_type": "display_data",
          "data": {
            "text/plain": [
              "<Figure size 432x288 with 1 Axes>"
            ],
            "image/png": "[encoded data removed]"
          },
          "metadata": {
            "needs_background": "light"
          }
        }
      ]
    },
    {
      "cell_type": "code",
      "source": [
        "import matplotlib.pyplot as pt\n",
        "x12=data['ZnO']\n",
        "y=data['Part']\n",
        "pt.plot(x12,y)\n"
      ],
      "metadata": {
        "colab": {
          "base_uri": "https://localhost:8080/",
          "height": 282
        },
        "id": "4vNco_3ztfcN",
        "outputId": "65b9d881-8794-4204-92ef-5eb54c9376d4"
      },
      "execution_count": 18,
      "outputs": [
        {
          "output_type": "execute_result",
          "data": {
            "text/plain": [
              "[<matplotlib.lines.Line2D at 0x7f3ec5ea8d90>]"
            ]
          },
          "metadata": {},
          "execution_count": 18
        },
        {
          "output_type": "display_data",
          "data": {
            "text/plain": [
              "<Figure size 432x288 with 1 Axes>"
            ],
            "image/png": "[encoded data removed]"
          },
          "metadata": {
            "needs_background": "light"
          }
        }
      ]
    },
    {
      "cell_type": "code",
      "source": [
        "import matplotlib.pyplot as pt\n",
        "x13=data['PbO2']\n",
        "y=data['Part']\n",
        "pt.plot(x13,y)"
      ],
      "metadata": {
        "colab": {
          "base_uri": "https://localhost:8080/",
          "height": 282
        },
        "id": "10LLXc90tfeX",
        "outputId": "fe4c1356-75f7-4a73-88ca-7f38e5e0b919"
      },
      "execution_count": 19,
      "outputs": [
        {
          "output_type": "execute_result",
          "data": {
            "text/plain": [
              "[<matplotlib.lines.Line2D at 0x7f3ec5e085d0>]"
            ]
          },
          "metadata": {},
          "execution_count": 19
        },
        {
          "output_type": "display_data",
          "data": {
            "text/plain": [
              "<Figure size 432x288 with 1 Axes>"
            ],
            "image/png": "[encoded data removed]"
          },
          "metadata": {
            "needs_background": "light"
          }
        }
      ]
    },
    {
      "cell_type": "code",
      "source": [
        "import matplotlib.pyplot as pt\n",
        "x14=data['Rb2O']\n",
        "y=data['Part']\n",
        "pt.plot(x14,y)"
      ],
      "metadata": {
        "colab": {
          "base_uri": "https://localhost:8080/",
          "height": 282
        },
        "id": "dIlWBFFmtfga",
        "outputId": "0c6e6d20-1794-48e6-b221-22c6f1257a2f"
      },
      "execution_count": 20,
      "outputs": [
        {
          "output_type": "execute_result",
          "data": {
            "text/plain": [
              "[<matplotlib.lines.Line2D at 0x7f3ec5de1690>]"
            ]
          },
          "metadata": {},
          "execution_count": 20
        },
        {
          "output_type": "display_data",
          "data": {
            "text/plain": [
              "<Figure size 432x288 with 1 Axes>"
            ],
            "image/png": "[encoded data removed]"
          },
          "metadata": {
            "needs_background": "light"
          }
        }
      ]
    },
    {
      "cell_type": "code",
      "source": [
        "import matplotlib.pyplot as pt\n",
        "x15=data['SrO']\n",
        "y=data['Part']\n",
        "pt.plot(x15,y)"
      ],
      "metadata": {
        "colab": {
          "base_uri": "https://localhost:8080/",
          "height": 282
        },
        "id": "Owz24Fdetfj2",
        "outputId": "3ffe4507-f43b-4a1b-edc7-5411ab8ce707"
      },
      "execution_count": 21,
      "outputs": [
        {
          "output_type": "execute_result",
          "data": {
            "text/plain": [
              "[<matplotlib.lines.Line2D at 0x7f3ec5d3d650>]"
            ]
          },
          "metadata": {},
          "execution_count": 21
        },
        {
          "output_type": "display_data",
          "data": {
            "text/plain": [
              "<Figure size 432x288 with 1 Axes>"
            ],
            "image/png": "[encoded data removed]"
          },
          "metadata": {
            "needs_background": "light"
          }
        }
      ]
    },
    {
      "cell_type": "code",
      "source": [
        "import matplotlib.pyplot as pt\n",
        "x16=data['Y2O3']\n",
        "y=data['Part']\n",
        "pt.plot(x16,y)"
      ],
      "metadata": {
        "colab": {
          "base_uri": "https://localhost:8080/",
          "height": 282
        },
        "id": "FPNlStvPuGnV",
        "outputId": "35985afa-d537-4e6e-c783-0320c8e0c7b0"
      },
      "execution_count": 22,
      "outputs": [
        {
          "output_type": "execute_result",
          "data": {
            "text/plain": [
              "[<matplotlib.lines.Line2D at 0x7f3ec5d11250>]"
            ]
          },
          "metadata": {},
          "execution_count": 22
        },
        {
          "output_type": "display_data",
          "data": {
            "text/plain": [
              "<Figure size 432x288 with 1 Axes>"
            ],
            "image/png": "[encoded data removed]"
          },
          "metadata": {
            "needs_background": "light"
          }
        }
      ]
    },
    {
      "cell_type": "code",
      "source": [
        "import matplotlib.pyplot as pt\n",
        "x17=data['ZrO2']\n",
        "y=data['Part']\n",
        "pt.plot(x17,y)"
      ],
      "metadata": {
        "colab": {
          "base_uri": "https://localhost:8080/",
          "height": 282
        },
        "id": "-u_1MjHauGq3",
        "outputId": "67ed4f9d-15af-4c45-8d0d-e7744f96bbf9"
      },
      "execution_count": 23,
      "outputs": [
        {
          "output_type": "execute_result",
          "data": {
            "text/plain": [
              "[<matplotlib.lines.Line2D at 0x7f3ec5cdad10>]"
            ]
          },
          "metadata": {},
          "execution_count": 23
        },
        {
          "output_type": "display_data",
          "data": {
            "text/plain": [
              "<Figure size 432x288 with 1 Axes>"
            ],
            "image/png": "[encoded data removed]"
          },
          "metadata": {
            "needs_background": "light"
          }
        }
      ]
    },
    {
      "cell_type": "code",
      "source": [
        "import matplotlib.pyplot as pt\n",
        "x18=data['P2O5']\n",
        "y=data['Part']\n",
        "pt.plot(x18,y)"
      ],
      "metadata": {
        "colab": {
          "base_uri": "https://localhost:8080/",
          "height": 282
        },
        "id": "U94R6qMmuHG8",
        "outputId": "d9423f32-0273-4298-caba-45f410848ea1"
      },
      "execution_count": 24,
      "outputs": [
        {
          "output_type": "execute_result",
          "data": {
            "text/plain": [
              "[<matplotlib.lines.Line2D at 0x7f3ec5c5fc90>]"
            ]
          },
          "metadata": {},
          "execution_count": 24
        },
        {
          "output_type": "display_data",
          "data": {
            "text/plain": [
              "<Figure size 432x288 with 1 Axes>"
            ],
            "image/png": "[encoded data removed]"
          },
          "metadata": {
            "needs_background": "light"
          }
        }
      ]
    }
  ]
}